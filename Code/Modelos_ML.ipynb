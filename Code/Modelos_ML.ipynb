{
 "cells": [
  {
   "cell_type": "markdown",
   "metadata": {},
   "source": [
    "**Predicting Severity:** Predicting the severity of accidents is particularly important because it allows for timely and appropriate responses. By assessing accident severity, responders can allocate resources, prioritize medical treatment, and dispatch appropriate personnel. Predictive models can take into account various factors such as road conditions, weather, vehicle type, and collision type to estimate the likelihood of severe outcomes, helping improve emergency response and medical care."
   ]
  },
  {
   "cell_type": "markdown",
   "metadata": {},
   "source": [
    "#### librerias"
   ]
  },
  {
   "cell_type": "code",
   "execution_count": 1,
   "metadata": {},
   "outputs": [
    {
     "name": "stderr",
     "output_type": "stream",
     "text": [
      "d:\\MIAD\\despliegue de soluciones\\Proyecto_Accidentes_Transito_EU\\DSA_Proyecto_AccidentesTransito\\.venv\\Lib\\site-packages\\tpot\\builtins\\__init__.py:36: UserWarning: Warning: optional dependency `torch` is not available. - skipping import of NN models.\n",
      "  warnings.warn(\"Warning: optional dependency `torch` is not available. - skipping import of NN models.\")\n"
     ]
    }
   ],
   "source": [
    "import os\n",
    "import re\n",
    "import string\n",
    "import pandas as pd\n",
    "import numpy as np\n",
    "import requests\n",
    "import seaborn as sns\n",
    "import matplotlib.pyplot as plt\n",
    "import plotly.express as px\n",
    "import h2o\n",
    "from sklearn.metrics import accuracy_score, classification_report, confusion_matrix, precision_score, recall_score, f1_score\n",
    "from imblearn.under_sampling import RandomUnderSampler\n",
    "from sklearn.ensemble import ExtraTreesClassifier\n",
    "from sklearn.ensemble import RandomForestClassifier\n",
    "from sklearn.feature_selection import SelectKBest\n",
    "from sklearn.feature_selection import chi2\n",
    "from sklearn.model_selection import train_test_split\n",
    "from sklearn.cluster import KMeans\n",
    "from sklearn.preprocessing import StandardScaler\n",
    "from sklearn.metrics import silhouette_score\n",
    "from math import radians, sin, cos, sqrt, atan2\n",
    "from shapely.geometry import Polygon\n",
    "from sklearn.preprocessing import LabelEncoder\n",
    "from statsmodels.stats.outliers_influence import variance_inflation_factor\n",
    "from imblearn.combine import SMOTETomek\n",
    "\n",
    "from sklearn.linear_model import LogisticRegression\n",
    "from sklearn.ensemble import AdaBoostClassifier\n",
    "from statsmodels.tools.tools import add_constant\n",
    "\n",
    "from sklearn.feature_extraction.text import TfidfVectorizer \n",
    "from sklearn.tree import DecisionTreeClassifier\n",
    "from sklearn.preprocessing import StandardScaler\n",
    "from sklearn.neighbors import KNeighborsClassifier\n",
    "from sklearn.naive_bayes import GaussianNB\n",
    "from xgboost import XGBClassifier\n",
    "from imblearn.ensemble import BalancedBaggingClassifier\n",
    "from sklearn.ensemble import VotingClassifier\n",
    "from sklearn.decomposition import PCA\n",
    "from sklearn.model_selection import train_test_split\n",
    "from sklearn.preprocessing import RobustScaler\n",
    "from sklearn.linear_model import LinearRegression\n",
    "from h2o.automl import H2OAutoML\n",
    "from tpot import TPOTClassifier\n"
   ]
  },
  {
   "cell_type": "code",
   "execution_count": 2,
   "metadata": {},
   "outputs": [
    {
     "name": "stdout",
     "output_type": "stream",
     "text": [
      "Primeras filas de la muestra (10% del conjunto de datos):\n",
      "filas / columnas (77280, 146)\n",
      "               ID  Severity  Distance(mi)  Temperature(F)  Wind_Chill(F)  \\\n",
      "485866  A-7114163         2         0.000            65.0           65.0   \n",
      "518491  A-4403211         2         0.078            83.0           83.0   \n",
      "534622   A-293466         2         0.000            98.6           68.0   \n",
      "646447   A-266393         2         0.010            64.4           74.0   \n",
      "311927  A-3194575         3         1.155            52.5           57.0   \n",
      "\n",
      "        Humidity(%)  Pressure(in)  Visibility(mi)  Wind_Speed(mph)  \\\n",
      "485866         52.0         29.69            10.0             18.1   \n",
      "518491         27.0         29.18            10.0             10.0   \n",
      "534622         29.0         29.81            10.0              9.2   \n",
      "646447        100.0         30.14            10.0              9.2   \n",
      "311927         27.0         30.19            10.0              8.1   \n",
      "\n",
      "        Precipitation(in)  ...  Temperature_Category_Mild  \\\n",
      "485866                0.0  ...                       True   \n",
      "518491                0.0  ...                      False   \n",
      "534622                0.0  ...                      False   \n",
      "646447                0.0  ...                       True   \n",
      "311927                0.0  ...                       True   \n",
      "\n",
      "        Temperature_Category_Hot  Humidity_Level_Moderate  \\\n",
      "485866                     False                     True   \n",
      "518491                      True                    False   \n",
      "534622                      True                    False   \n",
      "646447                     False                    False   \n",
      "311927                     False                    False   \n",
      "\n",
      "        Humidity_Level_High  Pressure_Category_Normal  Pressure_Category_High  \\\n",
      "485866                False                      True                   False   \n",
      "518491                False                     False                   False   \n",
      "534622                False                      True                   False   \n",
      "646447                 True                      True                   False   \n",
      "311927                False                      True                   False   \n",
      "\n",
      "        Visibility_Category_Moderate  Visibility_Category_Clear  \\\n",
      "485866                         False                       True   \n",
      "518491                         False                       True   \n",
      "534622                         False                       True   \n",
      "646447                         False                       True   \n",
      "311927                         False                       True   \n",
      "\n",
      "        is_diciembre_Yes  Is_Rush_Hour_Yes  \n",
      "485866             False              True  \n",
      "518491             False              True  \n",
      "534622             False              True  \n",
      "646447              True              True  \n",
      "311927             False             False  \n",
      "\n",
      "[5 rows x 146 columns]\n"
     ]
    }
   ],
   "source": [
    "# Definir la ruta a la carpeta Data\n",
    "Data_path = '../Data'\n",
    "\n",
    "# Cargar los datos\n",
    "file_path = os.path.join(Data_path, 'US_Accidents_March23_v2.csv')\n",
    "df = pd.read_csv(file_path)\n",
    "df.dropna(inplace=True)\n",
    "\n",
    "# Tomar una muestra aleatoria del 10% de los datos\n",
    "sample_df = df.sample(frac=0.1, random_state=42)  # random_state asegura reproducibilidad\n",
    "\n",
    "# Mostrar las primeras filas de la muestra\n",
    "print(\"Primeras filas de la muestra (10% del conjunto de datos):\")\n",
    "print('filas / columnas', sample_df.shape)\n",
    "print(sample_df.head())"
   ]
  },
  {
   "cell_type": "code",
   "execution_count": 3,
   "metadata": {},
   "outputs": [],
   "source": [
    "def classification_task(model, X_train_scaled, y_train, X_test_scaled, y_test, predic, model_name):\n",
    "    \"\"\"\n",
    "    Evalúa el rendimiento de un modelo de clasificación y devuelve un DataFrame con varias métricas.\n",
    "\n",
    "    Parámetros:\n",
    "    - model: objeto del modelo de clasificación entrenado.\n",
    "    - X_train_scaled: conjunto de datos de entrenamiento escalado.\n",
    "    - y_train: etiquetas verdaderas del conjunto de entrenamiento.\n",
    "    - X_test_scaled: conjunto de datos de prueba escalado.\n",
    "    - y_test: etiquetas verdaderas del conjunto de prueba.\n",
    "    - predic: predicciones del modelo en el conjunto de prueba.\n",
    "    - model_name: nombre del modelo, utilizado como índice en el DataFrame de resultados.\n",
    "\n",
    "    Retorno:\n",
    "    - perf_df: DataFrame con las métricas de rendimiento del modelo.\n",
    "    \"\"\"\n",
    "    \n",
    "    # Crear el DataFrame con las métricas de evaluación\n",
    "    perf_df = pd.DataFrame({\n",
    "        'Train_Score': model.score(X_train_scaled, y_train),         # Puntaje en el conjunto de entrenamiento\n",
    "        'Test_Score': model.score(X_test_scaled, y_test),            # Puntaje en el conjunto de prueba\n",
    "        'Precision_Score': precision_score(y_test, predic, average='weighted'),  # Precisión ponderada\n",
    "        'Recall_Score': recall_score(y_test, predic, average='weighted'),        # Recall ponderado\n",
    "        'F1_Score': f1_score(y_test, predic, average='weighted'),               # F1 Score ponderado\n",
    "        'accuracy': accuracy_score(y_test, predic)                              # Exactitud global\n",
    "    }, index=[model_name])\n",
    "    \n",
    "    return perf_df"
   ]
  },
  {
   "cell_type": "code",
   "execution_count": 4,
   "metadata": {},
   "outputs": [],
   "source": [
    "# seleccion variable respuesta\n",
    "X = sample_df.drop('Severity', axis=1)\n",
    "y= sample_df['Severity']\n",
    "\n",
    "X_train, X_test, y_train, y_test = train_test_split(X, y, test_size=0.30, random_state=42)"
   ]
  },
  {
   "cell_type": "code",
   "execution_count": 8,
   "metadata": {},
   "outputs": [],
   "source": [
    "# Crea un DataFrame con X_test, los valores reales de y_test, y las predicciones\n",
    "results_df = X_test.copy()  # Copia X_test para mantener sus columnas\n",
    "\n",
    "X_train = X_train.drop('ID', axis=1)\n",
    "X_test = X_test.drop('ID', axis=1)"
   ]
  },
  {
   "cell_type": "markdown",
   "metadata": {},
   "source": [
    "### Desbalanceo variable objetivo\n",
    "Es fundamental evaluar el equilibrio de la variable objetivo, especialmente en tareas de clasificación. Una variable objetivo desequilibrada ocurre cuando una clase (o categoría) tiene significativamente más casos que las demás, lo que puede generar desafíos que afectan el entrenamiento, la evaluación y la generalización del modelo."
   ]
  },
  {
   "cell_type": "code",
   "execution_count": 31,
   "metadata": {},
   "outputs": [
    {
     "name": "stdout",
     "output_type": "stream",
     "text": [
      "Distribución de clases antes de SMOTETomek:\n",
      "Severity\n",
      "2    43009\n",
      "3     9225\n",
      "4     1405\n",
      "1      457\n",
      "Name: count, dtype: int64\n",
      "\n",
      "Distribución de clases después de SMOTETomek:\n",
      "Severity\n",
      "1    42997\n",
      "4    42941\n",
      "3    42824\n",
      "2    42788\n",
      "Name: count, dtype: int64\n"
     ]
    }
   ],
   "source": [
    "# Inicializar el objeto SMOTETomek\n",
    "smt = SMOTETomek(random_state=42)\n",
    "\n",
    "# Aplicar SMOTETomek al conjunto de entrenamiento\n",
    "X_resampled, y_resampled = smt.fit_resample(X_train, y_train)\n",
    "\n",
    "# Mostrar el balance de clases antes y después\n",
    "print(\"Distribución de clases antes de SMOTETomek:\")\n",
    "print(pd.Series(y_train).value_counts())\n",
    "print(\"\\nDistribución de clases después de SMOTETomek:\")\n",
    "print(pd.Series(y_resampled).value_counts())"
   ]
  },
  {
   "cell_type": "markdown",
   "metadata": {},
   "source": [
    "#### RandomForestClassifier"
   ]
  },
  {
   "cell_type": "code",
   "execution_count": 5,
   "metadata": {},
   "outputs": [
    {
     "data": {
      "text/html": [
       "<div>\n",
       "<style scoped>\n",
       "    .dataframe tbody tr th:only-of-type {\n",
       "        vertical-align: middle;\n",
       "    }\n",
       "\n",
       "    .dataframe tbody tr th {\n",
       "        vertical-align: top;\n",
       "    }\n",
       "\n",
       "    .dataframe thead th {\n",
       "        text-align: right;\n",
       "    }\n",
       "</style>\n",
       "<table border=\"1\" class=\"dataframe\">\n",
       "  <thead>\n",
       "    <tr style=\"text-align: right;\">\n",
       "      <th></th>\n",
       "      <th>Train_Score</th>\n",
       "      <th>Test_Score</th>\n",
       "      <th>Precision_Score</th>\n",
       "      <th>Recall_Score</th>\n",
       "      <th>F1_Score</th>\n",
       "      <th>accuracy</th>\n",
       "    </tr>\n",
       "  </thead>\n",
       "  <tbody>\n",
       "    <tr>\n",
       "      <th>Random Forest</th>\n",
       "      <td>0.999982</td>\n",
       "      <td>0.870989</td>\n",
       "      <td>0.862399</td>\n",
       "      <td>0.870989</td>\n",
       "      <td>0.853111</td>\n",
       "      <td>0.870989</td>\n",
       "    </tr>\n",
       "  </tbody>\n",
       "</table>\n",
       "</div>"
      ],
      "text/plain": [
       "               Train_Score  Test_Score  Precision_Score  Recall_Score  \\\n",
       "Random Forest     0.999982    0.870989         0.862399      0.870989   \n",
       "\n",
       "               F1_Score  accuracy  \n",
       "Random Forest  0.853111  0.870989  "
      ]
     },
     "execution_count": 5,
     "metadata": {},
     "output_type": "execute_result"
    }
   ],
   "source": [
    "# definicion del modelo\n",
    "rf_classifier = RandomForestClassifier()\n",
    "rf_classifier.fit(X_train, y_train)  \n",
    "\n",
    "y_pred = rf_classifier.predict(X_test)\n",
    "Eval_Rf= classification_task(rf_classifier,X_train, y_train ,X_test ,y_test, y_pred ,'Random Forest')\n",
    "Eval_Rf"
   ]
  },
  {
   "cell_type": "code",
   "execution_count": 6,
   "metadata": {},
   "outputs": [
    {
     "data": {
      "image/png": "[encoded data removed]",
      "text/plain": [
       "<Figure size 600x400 with 2 Axes>"
      ]
     },
     "metadata": {},
     "output_type": "display_data"
    },
    {
     "name": "stdout",
     "output_type": "stream",
     "text": [
      "Classification Report:\n",
      "              precision    recall  f1-score   support\n",
      "\n",
      "           1       0.81      0.12      0.21       187\n",
      "           2       0.89      0.97      0.93     18619\n",
      "           3       0.76      0.56      0.64      3805\n",
      "           4       0.77      0.06      0.11       573\n",
      "\n",
      "    accuracy                           0.87     23184\n",
      "   macro avg       0.81      0.43      0.47     23184\n",
      "weighted avg       0.86      0.87      0.85     23184\n",
      "\n"
     ]
    }
   ],
   "source": [
    "plt.figure(figsize=(6, 4))\n",
    "sns.heatmap(confusion_matrix(y_test, y_pred), annot=True, fmt='d', cmap='Blues')\n",
    "plt.xlabel('Predicted')\n",
    "plt.ylabel('Actual')\n",
    "plt.title('Confusion Matrix')\n",
    "plt.show()\n",
    "\n",
    "class_report = classification_report(y_test, y_pred)\n",
    "print(\"Classification Report:\")\n",
    "print(class_report)\n"
   ]
  },
  {
   "cell_type": "markdown",
   "metadata": {},
   "source": [
    "#### XGBoost"
   ]
  },
  {
   "cell_type": "code",
   "execution_count": 11,
   "metadata": {},
   "outputs": [
    {
     "data": {
      "text/html": [
       "<div>\n",
       "<style scoped>\n",
       "    .dataframe tbody tr th:only-of-type {\n",
       "        vertical-align: middle;\n",
       "    }\n",
       "\n",
       "    .dataframe tbody tr th {\n",
       "        vertical-align: top;\n",
       "    }\n",
       "\n",
       "    .dataframe thead th {\n",
       "        text-align: right;\n",
       "    }\n",
       "</style>\n",
       "<table border=\"1\" class=\"dataframe\">\n",
       "  <thead>\n",
       "    <tr style=\"text-align: right;\">\n",
       "      <th></th>\n",
       "      <th>Train_Score</th>\n",
       "      <th>Test_Score</th>\n",
       "      <th>Precision_Score</th>\n",
       "      <th>Recall_Score</th>\n",
       "      <th>F1_Score</th>\n",
       "      <th>accuracy</th>\n",
       "    </tr>\n",
       "  </thead>\n",
       "  <tbody>\n",
       "    <tr>\n",
       "      <th>XGBoost</th>\n",
       "      <td>0.936317</td>\n",
       "      <td>0.87927</td>\n",
       "      <td>0.870039</td>\n",
       "      <td>0.87927</td>\n",
       "      <td>0.87157</td>\n",
       "      <td>0.87927</td>\n",
       "    </tr>\n",
       "  </tbody>\n",
       "</table>\n",
       "</div>"
      ],
      "text/plain": [
       "         Train_Score  Test_Score  Precision_Score  Recall_Score  F1_Score  \\\n",
       "XGBoost     0.936317     0.87927         0.870039       0.87927   0.87157   \n",
       "\n",
       "         accuracy  \n",
       "XGBoost   0.87927  "
      ]
     },
     "execution_count": 11,
     "metadata": {},
     "output_type": "execute_result"
    }
   ],
   "source": [
    "(y_train-1).unique()\n",
    "\n",
    "xgb_classifier = XGBClassifier(objective='multi:softmax',random_state=42)\n",
    "xgb_classifier.fit(X_train, y_train-1 )\n",
    "\n",
    "y_pred = xgb_classifier.predict(X_test)\n",
    "#probas = xgb_classifier.predict_proba(X_test)  # Obtén las probabilidades de predicción\n",
    "Eval_xgb=classification_task(xgb_classifier,X_train, y_train-1, X_test, y_test-1, y_pred,'XGBoost')\n",
    "Eval_xgb\n"
   ]
  },
  {
   "cell_type": "code",
   "execution_count": 12,
   "metadata": {},
   "outputs": [
    {
     "name": "stdout",
     "output_type": "stream",
     "text": [
      "Accuracy: 0.88\n"
     ]
    },
    {
     "data": {
      "image/png": "[encoded data removed]",
      "text/plain": [
       "<Figure size 600x400 with 2 Axes>"
      ]
     },
     "metadata": {},
     "output_type": "display_data"
    },
    {
     "name": "stdout",
     "output_type": "stream",
     "text": [
      "Classification Report:\n",
      "              precision    recall  f1-score   support\n",
      "\n",
      "           0       0.60      0.41      0.49       187\n",
      "           1       0.91      0.95      0.93     18619\n",
      "           2       0.73      0.66      0.70      3805\n",
      "           3       0.56      0.18      0.28       573\n",
      "\n",
      "    accuracy                           0.88     23184\n",
      "   macro avg       0.70      0.55      0.60     23184\n",
      "weighted avg       0.87      0.88      0.87     23184\n",
      "\n"
     ]
    }
   ],
   "source": [
    "accuracy = accuracy_score(y_test-1, y_pred)\n",
    "print(f\"Accuracy: {accuracy:.2f}\")\n",
    "\n",
    "plt.figure(figsize=(6, 4))\n",
    "sns.heatmap(confusion_matrix(y_test-1, y_pred), annot=True, fmt='d', cmap='Blues')\n",
    "plt.xlabel('Predicted')\n",
    "plt.ylabel('Actual')\n",
    "plt.title('Confusion Matrix')\n",
    "plt.show()\n",
    "\n",
    "class_report = classification_report(y_test-1, y_pred)\n",
    "print(\"Classification Report:\")\n",
    "print(class_report)"
   ]
  },
  {
   "cell_type": "markdown",
   "metadata": {},
   "source": [
    "#### Balanced Bagging Classifier\n",
    "Un Balanced Bagging Classifier es una técnica de aprendizaje automático en ensamblado que combina el enfoque de bagging con un equilibrio de clases mediante re-muestreo, ideal para problemas de clasificación con clases desbalanceadas (cuando una clase tiene significativamente más instancias que otra).\n"
   ]
  },
  {
   "cell_type": "code",
   "execution_count": 13,
   "metadata": {},
   "outputs": [
    {
     "data": {
      "text/html": [
       "<div>\n",
       "<style scoped>\n",
       "    .dataframe tbody tr th:only-of-type {\n",
       "        vertical-align: middle;\n",
       "    }\n",
       "\n",
       "    .dataframe tbody tr th {\n",
       "        vertical-align: top;\n",
       "    }\n",
       "\n",
       "    .dataframe thead th {\n",
       "        text-align: right;\n",
       "    }\n",
       "</style>\n",
       "<table border=\"1\" class=\"dataframe\">\n",
       "  <thead>\n",
       "    <tr style=\"text-align: right;\">\n",
       "      <th></th>\n",
       "      <th>Train_Score</th>\n",
       "      <th>Test_Score</th>\n",
       "      <th>Precision_Score</th>\n",
       "      <th>Recall_Score</th>\n",
       "      <th>F1_Score</th>\n",
       "      <th>accuracy</th>\n",
       "    </tr>\n",
       "  </thead>\n",
       "  <tbody>\n",
       "    <tr>\n",
       "      <th>BBC</th>\n",
       "      <td>0.701974</td>\n",
       "      <td>0.688708</td>\n",
       "      <td>0.874482</td>\n",
       "      <td>0.688708</td>\n",
       "      <td>0.74941</td>\n",
       "      <td>0.688708</td>\n",
       "    </tr>\n",
       "  </tbody>\n",
       "</table>\n",
       "</div>"
      ],
      "text/plain": [
       "     Train_Score  Test_Score  Precision_Score  Recall_Score  F1_Score  \\\n",
       "BBC     0.701974    0.688708         0.874482      0.688708   0.74941   \n",
       "\n",
       "     accuracy  \n",
       "BBC  0.688708  "
      ]
     },
     "execution_count": 13,
     "metadata": {},
     "output_type": "execute_result"
    }
   ],
   "source": [
    "base_estimator = DecisionTreeClassifier(random_state=42)\n",
    "balanced_bagging = BalancedBaggingClassifier(estimator=base_estimator, n_estimators=100, random_state=42)\n",
    "\n",
    "balanced_bagging.fit(X_train, y_train)\n",
    "\n",
    "y_pred = balanced_bagging.predict(X_test)\n",
    "Eval_bbc=classification_task(balanced_bagging,X_train, y_train ,X_test,y_test, y_pred,'BBC')\n",
    "Eval_bbc"
   ]
  },
  {
   "cell_type": "code",
   "execution_count": 14,
   "metadata": {},
   "outputs": [
    {
     "name": "stdout",
     "output_type": "stream",
     "text": [
      "Accuracy: 0.69\n"
     ]
    },
    {
     "data": {
      "image/png": "[encoded data removed]",
      "text/plain": [
       "<Figure size 600x400 with 2 Axes>"
      ]
     },
     "metadata": {},
     "output_type": "display_data"
    },
    {
     "name": "stdout",
     "output_type": "stream",
     "text": [
      "Classification Report:\n",
      "              precision    recall  f1-score   support\n",
      "\n",
      "           1       0.11      0.89      0.20       187\n",
      "           2       0.97      0.67      0.79     18619\n",
      "           3       0.56      0.75      0.64      3805\n",
      "           4       0.12      0.78      0.21       573\n",
      "\n",
      "    accuracy                           0.69     23184\n",
      "   macro avg       0.44      0.77      0.46     23184\n",
      "weighted avg       0.87      0.69      0.75     23184\n",
      "\n"
     ]
    }
   ],
   "source": [
    "accuracy = accuracy_score(y_test, y_pred)\n",
    "print(f\"Accuracy: {accuracy:.2f}\")\n",
    "\n",
    "plt.figure(figsize=(6, 4))\n",
    "sns.heatmap(confusion_matrix(y_test, y_pred), annot=True, fmt='d', cmap='Blues')\n",
    "plt.xlabel('Predicted')\n",
    "plt.ylabel('Actual')\n",
    "plt.title('Confusion Matrix')\n",
    "plt.show()\n",
    "\n",
    "class_report = classification_report(y_test, y_pred)\n",
    "print(\"Classification Report:\")\n",
    "print(class_report)"
   ]
  },
  {
   "cell_type": "markdown",
   "metadata": {},
   "source": [
    "#### ADA Boost\n",
    "AdaBoost combina varios modelos sencillos, enfocándose en corregir los errores de clasificación, para construir un modelo más fuerte y preciso. Es ideal para mejorar el poder predictivo utilizando la fuerza de múltiples clasificadores."
   ]
  },
  {
   "cell_type": "code",
   "execution_count": 36,
   "metadata": {},
   "outputs": [
    {
     "name": "stderr",
     "output_type": "stream",
     "text": [
      "d:\\MIAD\\despliegue de soluciones\\Proyecto_Accidentes_Transito_EU\\DSA_Proyecto_AccidentesTransito\\.venv\\Lib\\site-packages\\sklearn\\ensemble\\_weight_boosting.py:527: FutureWarning: The SAMME.R algorithm (the default) is deprecated and will be removed in 1.6. Use the SAMME algorithm to circumvent this warning.\n",
      "  warnings.warn(\n"
     ]
    },
    {
     "data": {
      "text/html": [
       "<div>\n",
       "<style scoped>\n",
       "    .dataframe tbody tr th:only-of-type {\n",
       "        vertical-align: middle;\n",
       "    }\n",
       "\n",
       "    .dataframe tbody tr th {\n",
       "        vertical-align: top;\n",
       "    }\n",
       "\n",
       "    .dataframe thead th {\n",
       "        text-align: right;\n",
       "    }\n",
       "</style>\n",
       "<table border=\"1\" class=\"dataframe\">\n",
       "  <thead>\n",
       "    <tr style=\"text-align: right;\">\n",
       "      <th></th>\n",
       "      <th>Train_Score</th>\n",
       "      <th>Test_Score</th>\n",
       "      <th>Precision_Score</th>\n",
       "      <th>Recall_Score</th>\n",
       "      <th>F1_Score</th>\n",
       "      <th>accuracy</th>\n",
       "    </tr>\n",
       "  </thead>\n",
       "  <tbody>\n",
       "    <tr>\n",
       "      <th>ADABoost</th>\n",
       "      <td>0.826142</td>\n",
       "      <td>0.827079</td>\n",
       "      <td>0.817364</td>\n",
       "      <td>0.827079</td>\n",
       "      <td>0.821345</td>\n",
       "      <td>0.827079</td>\n",
       "    </tr>\n",
       "  </tbody>\n",
       "</table>\n",
       "</div>"
      ],
      "text/plain": [
       "          Train_Score  Test_Score  Precision_Score  Recall_Score  F1_Score  \\\n",
       "ADABoost     0.826142    0.827079         0.817364      0.827079  0.821345   \n",
       "\n",
       "          accuracy  \n",
       "ADABoost  0.827079  "
      ]
     },
     "execution_count": 36,
     "metadata": {},
     "output_type": "execute_result"
    }
   ],
   "source": [
    "ada_classifier = AdaBoostClassifier(random_state=42)\n",
    "ada_classifier.fit(X_train, y_train)\n",
    "\n",
    "y_pred = ada_classifier.predict(X_test)\n",
    "Eval_ada=classification_task(ada_classifier,X_train, y_train ,X_test,y_test, y_pred,'ADABoost')\n",
    "Eval_ada"
   ]
  },
  {
   "cell_type": "code",
   "execution_count": 16,
   "metadata": {},
   "outputs": [
    {
     "name": "stdout",
     "output_type": "stream",
     "text": [
      "Accuracy: 0.83\n"
     ]
    },
    {
     "data": {
      "image/png": "[encoded data removed]",
      "text/plain": [
       "<Figure size 600x400 with 2 Axes>"
      ]
     },
     "metadata": {},
     "output_type": "display_data"
    },
    {
     "name": "stdout",
     "output_type": "stream",
     "text": [
      "Classification Report:\n",
      "              precision    recall  f1-score   support\n",
      "\n",
      "           1       0.29      0.18      0.22       187\n",
      "           2       0.88      0.91      0.90     18619\n",
      "           3       0.62      0.53      0.57      3805\n",
      "           4       0.21      0.19      0.20       573\n",
      "\n",
      "    accuracy                           0.83     23184\n",
      "   macro avg       0.50      0.45      0.47     23184\n",
      "weighted avg       0.82      0.83      0.82     23184\n",
      "\n"
     ]
    }
   ],
   "source": [
    "accuracy = accuracy_score(y_test, y_pred)\n",
    "print(f\"Accuracy: {accuracy:.2f}\")\n",
    "\n",
    "plt.figure(figsize=(6, 4))\n",
    "sns.heatmap(confusion_matrix(y_test, y_pred), annot=True, fmt='d', cmap='Blues')\n",
    "plt.xlabel('Predicted')\n",
    "plt.ylabel('Actual')\n",
    "plt.title('Confusion Matrix')\n",
    "plt.show()\n",
    "\n",
    "class_report = classification_report(y_test, y_pred)\n",
    "print(\"Classification Report:\")\n",
    "print(class_report)"
   ]
  },
  {
   "cell_type": "markdown",
   "metadata": {},
   "source": [
    "#### Decision Trees\n",
    "Un árbol de decisión es un modelo de aprendizaje supervisado no paramétrico utilizado en tareas de clasificación y regresión. Su estructura jerárquica se asemeja a un árbol, compuesto por un nodo raíz, ramas, nodos internos y nodos hoja. Este modelo se basa en declaraciones condicionales para realizar divisiones en función de características, permitiendo llegar a predicciones finales representadas en los nodos hoja."
   ]
  },
  {
   "cell_type": "code",
   "execution_count": 24,
   "metadata": {},
   "outputs": [
    {
     "data": {
      "text/html": [
       "<div>\n",
       "<style scoped>\n",
       "    .dataframe tbody tr th:only-of-type {\n",
       "        vertical-align: middle;\n",
       "    }\n",
       "\n",
       "    .dataframe tbody tr th {\n",
       "        vertical-align: top;\n",
       "    }\n",
       "\n",
       "    .dataframe thead th {\n",
       "        text-align: right;\n",
       "    }\n",
       "</style>\n",
       "<table border=\"1\" class=\"dataframe\">\n",
       "  <thead>\n",
       "    <tr style=\"text-align: right;\">\n",
       "      <th></th>\n",
       "      <th>Train_Score</th>\n",
       "      <th>Test_Score</th>\n",
       "      <th>Precision_Score</th>\n",
       "      <th>Recall_Score</th>\n",
       "      <th>F1_Score</th>\n",
       "      <th>accuracy</th>\n",
       "    </tr>\n",
       "  </thead>\n",
       "  <tbody>\n",
       "    <tr>\n",
       "      <th>Decision Trees</th>\n",
       "      <td>0.999982</td>\n",
       "      <td>0.819703</td>\n",
       "      <td>0.823019</td>\n",
       "      <td>0.819703</td>\n",
       "      <td>0.821292</td>\n",
       "      <td>0.819703</td>\n",
       "    </tr>\n",
       "  </tbody>\n",
       "</table>\n",
       "</div>"
      ],
      "text/plain": [
       "                Train_Score  Test_Score  Precision_Score  Recall_Score  \\\n",
       "Decision Trees     0.999982    0.819703         0.823019      0.819703   \n",
       "\n",
       "                F1_Score  accuracy  \n",
       "Decision Trees  0.821292  0.819703  "
      ]
     },
     "execution_count": 24,
     "metadata": {},
     "output_type": "execute_result"
    }
   ],
   "source": [
    "dt_classifier = DecisionTreeClassifier(random_state=42)\n",
    "dt_classifier.fit(X_train, y_train)\n",
    "\n",
    "y_pred = dt_classifier.predict(X_test)\n",
    "Eval_Dt=classification_task(dt_classifier,X_train, y_train ,X_test ,y_test, y_pred,'Decision Trees')\n",
    "Eval_Dt"
   ]
  },
  {
   "cell_type": "code",
   "execution_count": 25,
   "metadata": {},
   "outputs": [
    {
     "name": "stdout",
     "output_type": "stream",
     "text": [
      "Accuracy: 0.82\n"
     ]
    },
    {
     "data": {
      "image/png": "[encoded data removed]",
      "text/plain": [
       "<Figure size 600x400 with 2 Axes>"
      ]
     },
     "metadata": {},
     "output_type": "display_data"
    },
    {
     "name": "stdout",
     "output_type": "stream",
     "text": [
      "Classification Report:\n",
      "              precision    recall  f1-score   support\n",
      "\n",
      "           1       0.32      0.34      0.33       187\n",
      "           2       0.90      0.89      0.89     18619\n",
      "           3       0.57      0.59      0.58      3805\n",
      "           4       0.21      0.22      0.22       573\n",
      "\n",
      "    accuracy                           0.82     23184\n",
      "   macro avg       0.50      0.51      0.51     23184\n",
      "weighted avg       0.82      0.82      0.82     23184\n",
      "\n"
     ]
    }
   ],
   "source": [
    "accuracy = accuracy_score(y_test, y_pred)\n",
    "print(f\"Accuracy: {accuracy:.2f}\")\n",
    "\n",
    "plt.figure(figsize=(6, 4))\n",
    "sns.heatmap(confusion_matrix(y_test, y_pred), annot=True, fmt='d', cmap='Blues')\n",
    "plt.xlabel('Predicted')\n",
    "plt.ylabel('Actual')\n",
    "plt.title('Confusion Matrix')\n",
    "plt.show()\n",
    "\n",
    "class_report = classification_report(y_test, y_pred)\n",
    "print(\"Classification Report:\")\n",
    "print(class_report)\n"
   ]
  },
  {
   "cell_type": "markdown",
   "metadata": {},
   "source": [
    "#### Voting Classifier \n",
    "\n",
    "Un Voting Classifier es un modelo de aprendizaje automático que combina varios modelos para predecir una clase basándose en la probabilidad más alta asignada por ellos. En lugar de evaluar modelos individuales por separado, este enfoque entrena un modelo único que utiliza los resultados de varios clasificadores para predecir una clase basándose en la mayoría de votos. Existen dos tipos de votaciones:\n",
    "\n",
    "Votación dura (Hard Voting): La clase predicha es aquella con la mayor cantidad de votos. Por ejemplo, si tres clasificadores predicen las clases (A, A, B), la clase final será A, ya que obtuvo la mayoría de votos.\n",
    "\n",
    "Votación blanda (Soft Voting): La predicción se basa en el promedio de las probabilidades asignadas por cada clasificador. Por ejemplo, si las probabilidades para la clase A son (0.30, 0.47, 0.53) y para B son (0.20, 0.32, 0.40), se calculan los promedios: A = 0.4333 y B = 0.3067. La clase A será la predicha, ya que tiene el promedio más alto.\n",
    "\n",
    "Este enfoque mejora la precisión combinando los puntos fuertes de múltiples clasificadores."
   ]
  },
  {
   "cell_type": "code",
   "execution_count": 26,
   "metadata": {},
   "outputs": [
    {
     "name": "stderr",
     "output_type": "stream",
     "text": [
      "d:\\MIAD\\despliegue de soluciones\\Proyecto_Accidentes_Transito_EU\\DSA_Proyecto_AccidentesTransito\\.venv\\Lib\\site-packages\\sklearn\\ensemble\\_weight_boosting.py:527: FutureWarning: The SAMME.R algorithm (the default) is deprecated and will be removed in 1.6. Use the SAMME algorithm to circumvent this warning.\n",
      "  warnings.warn(\n"
     ]
    },
    {
     "data": {
      "text/html": [
       "<div>\n",
       "<style scoped>\n",
       "    .dataframe tbody tr th:only-of-type {\n",
       "        vertical-align: middle;\n",
       "    }\n",
       "\n",
       "    .dataframe tbody tr th {\n",
       "        vertical-align: top;\n",
       "    }\n",
       "\n",
       "    .dataframe thead th {\n",
       "        text-align: right;\n",
       "    }\n",
       "</style>\n",
       "<table border=\"1\" class=\"dataframe\">\n",
       "  <thead>\n",
       "    <tr style=\"text-align: right;\">\n",
       "      <th></th>\n",
       "      <th>Train_Score</th>\n",
       "      <th>Test_Score</th>\n",
       "      <th>Precision_Score</th>\n",
       "      <th>Recall_Score</th>\n",
       "      <th>F1_Score</th>\n",
       "      <th>accuracy</th>\n",
       "    </tr>\n",
       "  </thead>\n",
       "  <tbody>\n",
       "    <tr>\n",
       "      <th>voting</th>\n",
       "      <td>0.997523</td>\n",
       "      <td>0.867581</td>\n",
       "      <td>0.861254</td>\n",
       "      <td>0.867581</td>\n",
       "      <td>0.863738</td>\n",
       "      <td>0.867581</td>\n",
       "    </tr>\n",
       "  </tbody>\n",
       "</table>\n",
       "</div>"
      ],
      "text/plain": [
       "        Train_Score  Test_Score  Precision_Score  Recall_Score  F1_Score  \\\n",
       "voting     0.997523    0.867581         0.861254      0.867581  0.863738   \n",
       "\n",
       "        accuracy  \n",
       "voting  0.867581  "
      ]
     },
     "execution_count": 26,
     "metadata": {},
     "output_type": "execute_result"
    }
   ],
   "source": [
    "voting_classifier = VotingClassifier(estimators=[\n",
    "    ('ada', ada_classifier),\n",
    "    ('dt_classifier',dt_classifier),\n",
    "    ('rf_classifier',rf_classifier),\n",
    "    ('xgb', xgb_classifier),\n",
    "    ('bbc',balanced_bagging)\n",
    "], voting='soft') \n",
    "\n",
    "voting_classifier.fit(X_train, y_train)\n",
    "\n",
    "y_pred = voting_classifier.predict(X_test)\n",
    "\n",
    "Eval_voting=classification_task(voting_classifier,X_train, y_train ,X_test,y_test, y_pred,'voting')\n",
    "Eval_voting"
   ]
  },
  {
   "cell_type": "code",
   "execution_count": 27,
   "metadata": {},
   "outputs": [
    {
     "name": "stdout",
     "output_type": "stream",
     "text": [
      "Accuracy: 0.87\n"
     ]
    },
    {
     "data": {
      "image/png": "[encoded data removed]",
      "text/plain": [
       "<Figure size 600x400 with 2 Axes>"
      ]
     },
     "metadata": {},
     "output_type": "display_data"
    },
    {
     "name": "stdout",
     "output_type": "stream",
     "text": [
      "Classification Report:\n",
      "              precision    recall  f1-score   support\n",
      "\n",
      "           1       0.62      0.47      0.53       187\n",
      "           2       0.92      0.93      0.92     18619\n",
      "           3       0.68      0.67      0.68      3805\n",
      "           4       0.40      0.23      0.29       573\n",
      "\n",
      "    accuracy                           0.87     23184\n",
      "   macro avg       0.65      0.57      0.61     23184\n",
      "weighted avg       0.86      0.87      0.86     23184\n",
      "\n"
     ]
    }
   ],
   "source": [
    "accuracy = accuracy_score(y_test, y_pred)\n",
    "print(f\"Accuracy: {accuracy:.2f}\")\n",
    "\n",
    "plt.figure(figsize=(6, 4))\n",
    "sns.heatmap(confusion_matrix(y_test, y_pred), annot=True, fmt='d', cmap='Blues')\n",
    "plt.xlabel('Predicted')\n",
    "plt.ylabel('Actual')\n",
    "plt.title('Confusion Matrix')\n",
    "plt.show()\n",
    "\n",
    "class_report = classification_report(y_test, y_pred)\n",
    "print(\"Classification Report:\")\n",
    "print(class_report)"
   ]
  },
  {
   "cell_type": "code",
   "execution_count": 28,
   "metadata": {},
   "outputs": [
    {
     "data": {
      "text/html": [
       "<div>\n",
       "<style scoped>\n",
       "    .dataframe tbody tr th:only-of-type {\n",
       "        vertical-align: middle;\n",
       "    }\n",
       "\n",
       "    .dataframe tbody tr th {\n",
       "        vertical-align: top;\n",
       "    }\n",
       "\n",
       "    .dataframe thead th {\n",
       "        text-align: right;\n",
       "    }\n",
       "</style>\n",
       "<table border=\"1\" class=\"dataframe\">\n",
       "  <thead>\n",
       "    <tr style=\"text-align: right;\">\n",
       "      <th></th>\n",
       "      <th>Train_Score</th>\n",
       "      <th>Test_Score</th>\n",
       "      <th>Precision_Score</th>\n",
       "      <th>Recall_Score</th>\n",
       "      <th>F1_Score</th>\n",
       "      <th>accuracy</th>\n",
       "    </tr>\n",
       "  </thead>\n",
       "  <tbody>\n",
       "    <tr>\n",
       "      <th>voting</th>\n",
       "      <td>0.997523</td>\n",
       "      <td>0.867581</td>\n",
       "      <td>0.861254</td>\n",
       "      <td>0.867581</td>\n",
       "      <td>0.863738</td>\n",
       "      <td>0.867581</td>\n",
       "    </tr>\n",
       "    <tr>\n",
       "      <th>ADABoost</th>\n",
       "      <td>0.826142</td>\n",
       "      <td>0.827079</td>\n",
       "      <td>0.817364</td>\n",
       "      <td>0.827079</td>\n",
       "      <td>0.821345</td>\n",
       "      <td>0.827079</td>\n",
       "    </tr>\n",
       "    <tr>\n",
       "      <th>Decision Trees</th>\n",
       "      <td>0.999982</td>\n",
       "      <td>0.819703</td>\n",
       "      <td>0.823019</td>\n",
       "      <td>0.819703</td>\n",
       "      <td>0.821292</td>\n",
       "      <td>0.819703</td>\n",
       "    </tr>\n",
       "    <tr>\n",
       "      <th>XGBoost</th>\n",
       "      <td>0.936317</td>\n",
       "      <td>0.879270</td>\n",
       "      <td>0.870039</td>\n",
       "      <td>0.879270</td>\n",
       "      <td>0.871570</td>\n",
       "      <td>0.879270</td>\n",
       "    </tr>\n",
       "    <tr>\n",
       "      <th>Random Forest</th>\n",
       "      <td>0.999982</td>\n",
       "      <td>0.870989</td>\n",
       "      <td>0.862399</td>\n",
       "      <td>0.870989</td>\n",
       "      <td>0.853111</td>\n",
       "      <td>0.870989</td>\n",
       "    </tr>\n",
       "    <tr>\n",
       "      <th>BBC</th>\n",
       "      <td>0.701974</td>\n",
       "      <td>0.688708</td>\n",
       "      <td>0.874482</td>\n",
       "      <td>0.688708</td>\n",
       "      <td>0.749410</td>\n",
       "      <td>0.688708</td>\n",
       "    </tr>\n",
       "  </tbody>\n",
       "</table>\n",
       "</div>"
      ],
      "text/plain": [
       "                Train_Score  Test_Score  Precision_Score  Recall_Score  \\\n",
       "voting             0.997523    0.867581         0.861254      0.867581   \n",
       "ADABoost           0.826142    0.827079         0.817364      0.827079   \n",
       "Decision Trees     0.999982    0.819703         0.823019      0.819703   \n",
       "XGBoost            0.936317    0.879270         0.870039      0.879270   \n",
       "Random Forest      0.999982    0.870989         0.862399      0.870989   \n",
       "BBC                0.701974    0.688708         0.874482      0.688708   \n",
       "\n",
       "                F1_Score  accuracy  \n",
       "voting          0.863738  0.867581  \n",
       "ADABoost        0.821345  0.827079  \n",
       "Decision Trees  0.821292  0.819703  \n",
       "XGBoost         0.871570  0.879270  \n",
       "Random Forest   0.853111  0.870989  \n",
       "BBC             0.749410  0.688708  "
      ]
     },
     "execution_count": 28,
     "metadata": {},
     "output_type": "execute_result"
    }
   ],
   "source": [
    "pd.concat([Eval_voting , Eval_ada , Eval_Dt, Eval_xgb ,Eval_Rf, Eval_bbc])"
   ]
  },
  {
   "cell_type": "markdown",
   "metadata": {},
   "source": [
    "### Mejor modelo con balanceo de datos"
   ]
  },
  {
   "cell_type": "code",
   "execution_count": 34,
   "metadata": {},
   "outputs": [
    {
     "data": {
      "text/html": [
       "<div>\n",
       "<style scoped>\n",
       "    .dataframe tbody tr th:only-of-type {\n",
       "        vertical-align: middle;\n",
       "    }\n",
       "\n",
       "    .dataframe tbody tr th {\n",
       "        vertical-align: top;\n",
       "    }\n",
       "\n",
       "    .dataframe thead th {\n",
       "        text-align: right;\n",
       "    }\n",
       "</style>\n",
       "<table border=\"1\" class=\"dataframe\">\n",
       "  <thead>\n",
       "    <tr style=\"text-align: right;\">\n",
       "      <th></th>\n",
       "      <th>Train_Score</th>\n",
       "      <th>Test_Score</th>\n",
       "      <th>Precision_Score</th>\n",
       "      <th>Recall_Score</th>\n",
       "      <th>F1_Score</th>\n",
       "      <th>accuracy</th>\n",
       "    </tr>\n",
       "  </thead>\n",
       "  <tbody>\n",
       "    <tr>\n",
       "      <th>XGBoost</th>\n",
       "      <td>0.963597</td>\n",
       "      <td>0.863138</td>\n",
       "      <td>0.859186</td>\n",
       "      <td>0.863138</td>\n",
       "      <td>0.860803</td>\n",
       "      <td>0.863138</td>\n",
       "    </tr>\n",
       "  </tbody>\n",
       "</table>\n",
       "</div>"
      ],
      "text/plain": [
       "         Train_Score  Test_Score  Precision_Score  Recall_Score  F1_Score  \\\n",
       "XGBoost     0.963597    0.863138         0.859186      0.863138  0.860803   \n",
       "\n",
       "         accuracy  \n",
       "XGBoost  0.863138  "
      ]
     },
     "execution_count": 34,
     "metadata": {},
     "output_type": "execute_result"
    }
   ],
   "source": [
    "## xgboost con data de train balanceada\n",
    "(y_resampled-1).unique()\n",
    "\n",
    "xgb_classifier = XGBClassifier(objective='multi:softmax',random_state=42)\n",
    "xgb_classifier.fit(X_resampled, y_resampled-1 )\n",
    "\n",
    "y_pred = xgb_classifier.predict(X_test)\n",
    "Eval_xgb_balan=classification_task(xgb_classifier,X_resampled, y_resampled-1, X_test, y_test-1, y_pred,'XGBoost')\n",
    "Eval_xgb_balan\n"
   ]
  },
  {
   "cell_type": "code",
   "execution_count": 35,
   "metadata": {},
   "outputs": [
    {
     "name": "stdout",
     "output_type": "stream",
     "text": [
      "Accuracy: 0.86\n"
     ]
    },
    {
     "data": {
      "image/png": "[encoded data removed]",
      "text/plain": [
       "<Figure size 600x400 with 2 Axes>"
      ]
     },
     "metadata": {},
     "output_type": "display_data"
    },
    {
     "name": "stdout",
     "output_type": "stream",
     "text": [
      "Classification Report:\n",
      "              precision    recall  f1-score   support\n",
      "\n",
      "           0       0.40      0.47      0.43       187\n",
      "           1       0.91      0.92      0.92     18619\n",
      "           2       0.68      0.67      0.68      3805\n",
      "           3       0.39      0.26      0.32       573\n",
      "\n",
      "    accuracy                           0.86     23184\n",
      "   macro avg       0.60      0.58      0.59     23184\n",
      "weighted avg       0.86      0.86      0.86     23184\n",
      "\n"
     ]
    }
   ],
   "source": [
    "accuracy = accuracy_score(y_test-1, y_pred)\n",
    "print(f\"Accuracy: {accuracy:.2f}\")\n",
    "\n",
    "plt.figure(figsize=(6, 4))\n",
    "sns.heatmap(confusion_matrix(y_test-1, y_pred), annot=True, fmt='d', cmap='Blues')\n",
    "plt.xlabel('Predicted')\n",
    "plt.ylabel('Actual')\n",
    "plt.title('Confusion Matrix')\n",
    "plt.show()\n",
    "\n",
    "class_report = classification_report(y_test-1, y_pred)\n",
    "print(\"Classification Report:\")\n",
    "print(class_report)"
   ]
  },
  {
   "cell_type": "markdown",
   "metadata": {},
   "source": [
    "#### write"
   ]
  },
  {
   "cell_type": "code",
   "execution_count": 14,
   "metadata": {},
   "outputs": [
    {
     "name": "stdout",
     "output_type": "stream",
     "text": [
      "Archivo CSV con predicciones y variables de X_test guardado exitosamente en: ../Results\\XGBoost_Predictions_with_Features.csv\n"
     ]
    }
   ],
   "source": [
    "results_df['Actual'] = y_test   # Ajusta el índice de clase restando 1, si es necesario\n",
    "results_df['Predicted'] = y_pred + 1\n",
    "\n",
    "# Define la ruta y el nombre del archivo CSV donde guardar los resultados\n",
    "results_path = '../Results'\n",
    "file_path = os.path.join(results_path, 'XGBoost_Predictions_with_Features.csv')\n",
    "\n",
    "# Guarda el DataFrame en un archivo CSV\n",
    "results_df.to_csv(file_path, index=False)\n",
    "\n",
    "print(\"Archivo CSV con predicciones y variables de X_test guardado exitosamente en:\", file_path)\n"
   ]
  },
  {
   "cell_type": "code",
   "execution_count": 16,
   "metadata": {},
   "outputs": [],
   "source": [
    "# Definir la ruta a la carpeta Data\n",
    "Data_path = '../Data'\n",
    "# Cargar los datos\n",
    "file_path = os.path.join(Data_path, 'US_Accidents_March23.csv')\n",
    "\n",
    "# Cargar el dataset original y el archivo de predicciones\n",
    "dataset_original = pd.read_csv(file_path)  # Desde el repositorio DVC\n",
    "#predicciones_test = results_df  # Archivo con predicciones\n",
    "\n",
    "\n"
   ]
  },
  {
   "cell_type": "code",
   "execution_count": 20,
   "metadata": {},
   "outputs": [],
   "source": [
    "# Asegúrate de que ambos datasets tienen una columna común para unir (por ejemplo, 'ID')\n",
    "# Si el índice es común, puedes resetearlo con reset_index()\n",
    "dataset_original.set_index('ID', inplace=True)\n",
    "results_df.set_index('ID', inplace=True)\n",
    "\n",
    "# Unir las predicciones al dataset original\n",
    "dataset_con_predicciones = dataset_original.join(results_df[['Predicted']], how='inner')\n"
   ]
  },
  {
   "cell_type": "code",
   "execution_count": 21,
   "metadata": {},
   "outputs": [
    {
     "data": {
      "text/html": [
       "<div>\n",
       "<style scoped>\n",
       "    .dataframe tbody tr th:only-of-type {\n",
       "        vertical-align: middle;\n",
       "    }\n",
       "\n",
       "    .dataframe tbody tr th {\n",
       "        vertical-align: top;\n",
       "    }\n",
       "\n",
       "    .dataframe thead th {\n",
       "        text-align: right;\n",
       "    }\n",
       "</style>\n",
       "<table border=\"1\" class=\"dataframe\">\n",
       "  <thead>\n",
       "    <tr style=\"text-align: right;\">\n",
       "      <th></th>\n",
       "      <th>Source</th>\n",
       "      <th>Severity</th>\n",
       "      <th>Start_Time</th>\n",
       "      <th>End_Time</th>\n",
       "      <th>Start_Lat</th>\n",
       "      <th>Start_Lng</th>\n",
       "      <th>End_Lat</th>\n",
       "      <th>End_Lng</th>\n",
       "      <th>Distance(mi)</th>\n",
       "      <th>Description</th>\n",
       "      <th>...</th>\n",
       "      <th>Station</th>\n",
       "      <th>Stop</th>\n",
       "      <th>Traffic_Calming</th>\n",
       "      <th>Traffic_Signal</th>\n",
       "      <th>Turning_Loop</th>\n",
       "      <th>Sunrise_Sunset</th>\n",
       "      <th>Civil_Twilight</th>\n",
       "      <th>Nautical_Twilight</th>\n",
       "      <th>Astronomical_Twilight</th>\n",
       "      <th>Predicted</th>\n",
       "    </tr>\n",
       "    <tr>\n",
       "      <th>ID</th>\n",
       "      <th></th>\n",
       "      <th></th>\n",
       "      <th></th>\n",
       "      <th></th>\n",
       "      <th></th>\n",
       "      <th></th>\n",
       "      <th></th>\n",
       "      <th></th>\n",
       "      <th></th>\n",
       "      <th></th>\n",
       "      <th></th>\n",
       "      <th></th>\n",
       "      <th></th>\n",
       "      <th></th>\n",
       "      <th></th>\n",
       "      <th></th>\n",
       "      <th></th>\n",
       "      <th></th>\n",
       "      <th></th>\n",
       "      <th></th>\n",
       "      <th></th>\n",
       "    </tr>\n",
       "  </thead>\n",
       "  <tbody>\n",
       "    <tr>\n",
       "      <th>A-849</th>\n",
       "      <td>Source2</td>\n",
       "      <td>2</td>\n",
       "      <td>2016-06-22 10:08:16</td>\n",
       "      <td>2016-06-22 10:38:16</td>\n",
       "      <td>37.488846</td>\n",
       "      <td>-122.212852</td>\n",
       "      <td>NaN</td>\n",
       "      <td>NaN</td>\n",
       "      <td>0.000</td>\n",
       "      <td>Right hand shoulder blocked due to accident on...</td>\n",
       "      <td>...</td>\n",
       "      <td>False</td>\n",
       "      <td>False</td>\n",
       "      <td>False</td>\n",
       "      <td>False</td>\n",
       "      <td>False</td>\n",
       "      <td>Day</td>\n",
       "      <td>Day</td>\n",
       "      <td>Day</td>\n",
       "      <td>Day</td>\n",
       "      <td>2</td>\n",
       "    </tr>\n",
       "    <tr>\n",
       "      <th>A-1132</th>\n",
       "      <td>Source2</td>\n",
       "      <td>2</td>\n",
       "      <td>2016-06-24 13:04:21</td>\n",
       "      <td>2016-06-24 13:34:21</td>\n",
       "      <td>37.902702</td>\n",
       "      <td>-122.515602</td>\n",
       "      <td>NaN</td>\n",
       "      <td>NaN</td>\n",
       "      <td>0.000</td>\n",
       "      <td>Slow lane blocked due to accident on US-101 No...</td>\n",
       "      <td>...</td>\n",
       "      <td>False</td>\n",
       "      <td>False</td>\n",
       "      <td>False</td>\n",
       "      <td>False</td>\n",
       "      <td>False</td>\n",
       "      <td>Day</td>\n",
       "      <td>Day</td>\n",
       "      <td>Day</td>\n",
       "      <td>Day</td>\n",
       "      <td>2</td>\n",
       "    </tr>\n",
       "    <tr>\n",
       "      <th>A-1214</th>\n",
       "      <td>Source2</td>\n",
       "      <td>2</td>\n",
       "      <td>2016-06-25 02:23:05</td>\n",
       "      <td>2016-06-25 03:08:05</td>\n",
       "      <td>38.405514</td>\n",
       "      <td>-121.996033</td>\n",
       "      <td>NaN</td>\n",
       "      <td>NaN</td>\n",
       "      <td>0.000</td>\n",
       "      <td>Accident on Gibson Canyon Rd at Shelly Ln.</td>\n",
       "      <td>...</td>\n",
       "      <td>False</td>\n",
       "      <td>False</td>\n",
       "      <td>False</td>\n",
       "      <td>False</td>\n",
       "      <td>False</td>\n",
       "      <td>Night</td>\n",
       "      <td>Night</td>\n",
       "      <td>Night</td>\n",
       "      <td>Night</td>\n",
       "      <td>2</td>\n",
       "    </tr>\n",
       "    <tr>\n",
       "      <th>A-2929</th>\n",
       "      <td>Source2</td>\n",
       "      <td>3</td>\n",
       "      <td>2016-07-13 13:01:53</td>\n",
       "      <td>2016-07-13 13:31:53</td>\n",
       "      <td>37.803886</td>\n",
       "      <td>-122.301971</td>\n",
       "      <td>NaN</td>\n",
       "      <td>NaN</td>\n",
       "      <td>0.000</td>\n",
       "      <td>Right hand shoulder blocked due to accident on...</td>\n",
       "      <td>...</td>\n",
       "      <td>False</td>\n",
       "      <td>False</td>\n",
       "      <td>False</td>\n",
       "      <td>False</td>\n",
       "      <td>False</td>\n",
       "      <td>Day</td>\n",
       "      <td>Day</td>\n",
       "      <td>Day</td>\n",
       "      <td>Day</td>\n",
       "      <td>3</td>\n",
       "    </tr>\n",
       "    <tr>\n",
       "      <th>A-3723</th>\n",
       "      <td>Source2</td>\n",
       "      <td>2</td>\n",
       "      <td>2016-07-21 20:21:06</td>\n",
       "      <td>2016-07-21 21:36:06</td>\n",
       "      <td>38.476143</td>\n",
       "      <td>-121.424957</td>\n",
       "      <td>NaN</td>\n",
       "      <td>NaN</td>\n",
       "      <td>0.000</td>\n",
       "      <td>Queueing traffic due to accident on CA-99 Sout...</td>\n",
       "      <td>...</td>\n",
       "      <td>False</td>\n",
       "      <td>False</td>\n",
       "      <td>False</td>\n",
       "      <td>False</td>\n",
       "      <td>False</td>\n",
       "      <td>Day</td>\n",
       "      <td>Day</td>\n",
       "      <td>Day</td>\n",
       "      <td>Day</td>\n",
       "      <td>2</td>\n",
       "    </tr>\n",
       "    <tr>\n",
       "      <th>...</th>\n",
       "      <td>...</td>\n",
       "      <td>...</td>\n",
       "      <td>...</td>\n",
       "      <td>...</td>\n",
       "      <td>...</td>\n",
       "      <td>...</td>\n",
       "      <td>...</td>\n",
       "      <td>...</td>\n",
       "      <td>...</td>\n",
       "      <td>...</td>\n",
       "      <td>...</td>\n",
       "      <td>...</td>\n",
       "      <td>...</td>\n",
       "      <td>...</td>\n",
       "      <td>...</td>\n",
       "      <td>...</td>\n",
       "      <td>...</td>\n",
       "      <td>...</td>\n",
       "      <td>...</td>\n",
       "      <td>...</td>\n",
       "      <td>...</td>\n",
       "    </tr>\n",
       "    <tr>\n",
       "      <th>A-7775951</th>\n",
       "      <td>Source1</td>\n",
       "      <td>3</td>\n",
       "      <td>2019-08-20 07:31:08</td>\n",
       "      <td>2019-08-20 08:00:52</td>\n",
       "      <td>39.780040</td>\n",
       "      <td>-104.931710</td>\n",
       "      <td>39.778290</td>\n",
       "      <td>-104.90927</td>\n",
       "      <td>1.198</td>\n",
       "      <td>At Monaco St/Exit 277 - Accident.</td>\n",
       "      <td>...</td>\n",
       "      <td>False</td>\n",
       "      <td>False</td>\n",
       "      <td>False</td>\n",
       "      <td>True</td>\n",
       "      <td>False</td>\n",
       "      <td>Day</td>\n",
       "      <td>Day</td>\n",
       "      <td>Day</td>\n",
       "      <td>Day</td>\n",
       "      <td>3</td>\n",
       "    </tr>\n",
       "    <tr>\n",
       "      <th>A-7776138</th>\n",
       "      <td>Source1</td>\n",
       "      <td>2</td>\n",
       "      <td>2019-08-20 15:27:20</td>\n",
       "      <td>2019-08-20 19:27:20</td>\n",
       "      <td>43.261364</td>\n",
       "      <td>-123.358492</td>\n",
       "      <td>43.279827</td>\n",
       "      <td>-123.35550</td>\n",
       "      <td>1.285</td>\n",
       "      <td>At Co Rd 115/Del Rio Rd/Exit 129 - Accident.</td>\n",
       "      <td>...</td>\n",
       "      <td>False</td>\n",
       "      <td>False</td>\n",
       "      <td>False</td>\n",
       "      <td>False</td>\n",
       "      <td>False</td>\n",
       "      <td>Day</td>\n",
       "      <td>Day</td>\n",
       "      <td>Day</td>\n",
       "      <td>Day</td>\n",
       "      <td>2</td>\n",
       "    </tr>\n",
       "    <tr>\n",
       "      <th>A-7776268</th>\n",
       "      <td>Source1</td>\n",
       "      <td>2</td>\n",
       "      <td>2019-08-21 19:10:12</td>\n",
       "      <td>2019-08-21 19:39:37</td>\n",
       "      <td>42.319000</td>\n",
       "      <td>-83.688450</td>\n",
       "      <td>42.323770</td>\n",
       "      <td>-83.69795</td>\n",
       "      <td>0.587</td>\n",
       "      <td>At M-14/Exit 42 - Accident. Left lane blocked.</td>\n",
       "      <td>...</td>\n",
       "      <td>False</td>\n",
       "      <td>False</td>\n",
       "      <td>False</td>\n",
       "      <td>False</td>\n",
       "      <td>False</td>\n",
       "      <td>Day</td>\n",
       "      <td>Day</td>\n",
       "      <td>Day</td>\n",
       "      <td>Day</td>\n",
       "      <td>2</td>\n",
       "    </tr>\n",
       "    <tr>\n",
       "      <th>A-7776998</th>\n",
       "      <td>Source1</td>\n",
       "      <td>3</td>\n",
       "      <td>2019-08-22 15:05:12</td>\n",
       "      <td>2019-08-22 15:34:25</td>\n",
       "      <td>41.920270</td>\n",
       "      <td>-87.674480</td>\n",
       "      <td>41.922140</td>\n",
       "      <td>-87.67777</td>\n",
       "      <td>0.213</td>\n",
       "      <td>At Damen Ave/Exit 47B - Accident.</td>\n",
       "      <td>...</td>\n",
       "      <td>False</td>\n",
       "      <td>False</td>\n",
       "      <td>False</td>\n",
       "      <td>False</td>\n",
       "      <td>False</td>\n",
       "      <td>Day</td>\n",
       "      <td>Day</td>\n",
       "      <td>Day</td>\n",
       "      <td>Day</td>\n",
       "      <td>3</td>\n",
       "    </tr>\n",
       "    <tr>\n",
       "      <th>A-7777038</th>\n",
       "      <td>Source1</td>\n",
       "      <td>2</td>\n",
       "      <td>2019-08-22 03:09:00</td>\n",
       "      <td>2019-08-22 04:08:00</td>\n",
       "      <td>41.152694</td>\n",
       "      <td>-112.025449</td>\n",
       "      <td>41.132576</td>\n",
       "      <td>-112.02557</td>\n",
       "      <td>1.390</td>\n",
       "      <td>At UT-103/Exit 335 - Accident. Right lane closed.</td>\n",
       "      <td>...</td>\n",
       "      <td>False</td>\n",
       "      <td>False</td>\n",
       "      <td>False</td>\n",
       "      <td>False</td>\n",
       "      <td>False</td>\n",
       "      <td>Night</td>\n",
       "      <td>Night</td>\n",
       "      <td>Night</td>\n",
       "      <td>Night</td>\n",
       "      <td>2</td>\n",
       "    </tr>\n",
       "  </tbody>\n",
       "</table>\n",
       "<p>23184 rows × 46 columns</p>\n",
       "</div>"
      ],
      "text/plain": [
       "            Source  Severity           Start_Time             End_Time  \\\n",
       "ID                                                                       \n",
       "A-849      Source2         2  2016-06-22 10:08:16  2016-06-22 10:38:16   \n",
       "A-1132     Source2         2  2016-06-24 13:04:21  2016-06-24 13:34:21   \n",
       "A-1214     Source2         2  2016-06-25 02:23:05  2016-06-25 03:08:05   \n",
       "A-2929     Source2         3  2016-07-13 13:01:53  2016-07-13 13:31:53   \n",
       "A-3723     Source2         2  2016-07-21 20:21:06  2016-07-21 21:36:06   \n",
       "...            ...       ...                  ...                  ...   \n",
       "A-7775951  Source1         3  2019-08-20 07:31:08  2019-08-20 08:00:52   \n",
       "A-7776138  Source1         2  2019-08-20 15:27:20  2019-08-20 19:27:20   \n",
       "A-7776268  Source1         2  2019-08-21 19:10:12  2019-08-21 19:39:37   \n",
       "A-7776998  Source1         3  2019-08-22 15:05:12  2019-08-22 15:34:25   \n",
       "A-7777038  Source1         2  2019-08-22 03:09:00  2019-08-22 04:08:00   \n",
       "\n",
       "           Start_Lat   Start_Lng    End_Lat    End_Lng  Distance(mi)  \\\n",
       "ID                                                                     \n",
       "A-849      37.488846 -122.212852        NaN        NaN         0.000   \n",
       "A-1132     37.902702 -122.515602        NaN        NaN         0.000   \n",
       "A-1214     38.405514 -121.996033        NaN        NaN         0.000   \n",
       "A-2929     37.803886 -122.301971        NaN        NaN         0.000   \n",
       "A-3723     38.476143 -121.424957        NaN        NaN         0.000   \n",
       "...              ...         ...        ...        ...           ...   \n",
       "A-7775951  39.780040 -104.931710  39.778290 -104.90927         1.198   \n",
       "A-7776138  43.261364 -123.358492  43.279827 -123.35550         1.285   \n",
       "A-7776268  42.319000  -83.688450  42.323770  -83.69795         0.587   \n",
       "A-7776998  41.920270  -87.674480  41.922140  -87.67777         0.213   \n",
       "A-7777038  41.152694 -112.025449  41.132576 -112.02557         1.390   \n",
       "\n",
       "                                                 Description  ... Station  \\\n",
       "ID                                                            ...           \n",
       "A-849      Right hand shoulder blocked due to accident on...  ...   False   \n",
       "A-1132     Slow lane blocked due to accident on US-101 No...  ...   False   \n",
       "A-1214            Accident on Gibson Canyon Rd at Shelly Ln.  ...   False   \n",
       "A-2929     Right hand shoulder blocked due to accident on...  ...   False   \n",
       "A-3723     Queueing traffic due to accident on CA-99 Sout...  ...   False   \n",
       "...                                                      ...  ...     ...   \n",
       "A-7775951                  At Monaco St/Exit 277 - Accident.  ...   False   \n",
       "A-7776138       At Co Rd 115/Del Rio Rd/Exit 129 - Accident.  ...   False   \n",
       "A-7776268     At M-14/Exit 42 - Accident. Left lane blocked.  ...   False   \n",
       "A-7776998                  At Damen Ave/Exit 47B - Accident.  ...   False   \n",
       "A-7777038  At UT-103/Exit 335 - Accident. Right lane closed.  ...   False   \n",
       "\n",
       "            Stop Traffic_Calming Traffic_Signal Turning_Loop Sunrise_Sunset  \\\n",
       "ID                                                                            \n",
       "A-849      False           False          False        False            Day   \n",
       "A-1132     False           False          False        False            Day   \n",
       "A-1214     False           False          False        False          Night   \n",
       "A-2929     False           False          False        False            Day   \n",
       "A-3723     False           False          False        False            Day   \n",
       "...          ...             ...            ...          ...            ...   \n",
       "A-7775951  False           False           True        False            Day   \n",
       "A-7776138  False           False          False        False            Day   \n",
       "A-7776268  False           False          False        False            Day   \n",
       "A-7776998  False           False          False        False            Day   \n",
       "A-7777038  False           False          False        False          Night   \n",
       "\n",
       "          Civil_Twilight Nautical_Twilight Astronomical_Twilight  Predicted  \n",
       "ID                                                                           \n",
       "A-849                Day               Day                   Day          2  \n",
       "A-1132               Day               Day                   Day          2  \n",
       "A-1214             Night             Night                 Night          2  \n",
       "A-2929               Day               Day                   Day          3  \n",
       "A-3723               Day               Day                   Day          2  \n",
       "...                  ...               ...                   ...        ...  \n",
       "A-7775951            Day               Day                   Day          3  \n",
       "A-7776138            Day               Day                   Day          2  \n",
       "A-7776268            Day               Day                   Day          2  \n",
       "A-7776998            Day               Day                   Day          3  \n",
       "A-7777038          Night             Night                 Night          2  \n",
       "\n",
       "[23184 rows x 46 columns]"
      ]
     },
     "execution_count": 21,
     "metadata": {},
     "output_type": "execute_result"
    }
   ],
   "source": [
    "dataset_con_predicciones"
   ]
  },
  {
   "cell_type": "code",
   "execution_count": 22,
   "metadata": {},
   "outputs": [
    {
     "name": "stdout",
     "output_type": "stream",
     "text": [
      "Archivo CSV con predicciones y variables originales de X_test guardado exitosamente en: ../Results\\XGBoost_Predictions_with_Features_originales.csv\n"
     ]
    }
   ],
   "source": [
    "# Define la ruta y el nombre del archivo CSV donde guardar los resultados\n",
    "results_path = '../Results'\n",
    "file_path = os.path.join(results_path, 'XGBoost_Predictions_with_Features_originales.csv')\n",
    "\n",
    "# Guarda el DataFrame en un archivo CSV\n",
    "dataset_con_predicciones.to_csv(file_path, index=False)\n",
    "\n",
    "print(\"Archivo CSV con predicciones y variables originales de X_test guardado exitosamente en:\", file_path)"
   ]
  }
 ],
 "metadata": {
  "kernelspec": {
   "display_name": ".venv",
   "language": "python",
   "name": "python3"
  },
  "language_info": {
   "codemirror_mode": {
    "name": "ipython",
    "version": 3
   },
   "file_extension": ".py",
   "mimetype": "text/x-python",
   "name": "python",
   "nbconvert_exporter": "python",
   "pygments_lexer": "ipython3",
   "version": "3.13.0"
  }
 },
 "nbformat": 4,
 "nbformat_minor": 2
}
