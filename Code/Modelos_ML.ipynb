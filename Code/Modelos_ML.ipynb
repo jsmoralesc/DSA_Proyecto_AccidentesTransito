{
 "cells": [
  {
   "cell_type": "markdown",
   "metadata": {},
   "source": [
    "**Predicting Severity:** Predicting the severity of accidents is particularly important because it allows for timely and appropriate responses. By assessing accident severity, responders can allocate resources, prioritize medical treatment, and dispatch appropriate personnel. Predictive models can take into account various factors such as road conditions, weather, vehicle type, and collision type to estimate the likelihood of severe outcomes, helping improve emergency response and medical care."
   ]
  },
  {
   "cell_type": "markdown",
   "metadata": {},
   "source": [
    "#### librerias"
   ]
  },
  {
   "cell_type": "code",
   "execution_count": 1,
   "metadata": {},
   "outputs": [
    {
     "name": "stderr",
     "output_type": "stream",
     "text": [
      "d:\\MIAD\\despliegue de soluciones\\Proyecto_Accidentes_Transito_EU\\DSA_Proyecto_AccidentesTransito\\.venv\\Lib\\site-packages\\tpot\\builtins\\__init__.py:36: UserWarning: Warning: optional dependency `torch` is not available. - skipping import of NN models.\n",
      "  warnings.warn(\"Warning: optional dependency `torch` is not available. - skipping import of NN models.\")\n"
     ]
    }
   ],
   "source": [
    "import os\n",
    "import re\n",
    "import string\n",
    "import pandas as pd\n",
    "import numpy as np\n",
    "import requests\n",
    "import seaborn as sns\n",
    "import matplotlib.pyplot as plt\n",
    "import plotly.express as px\n",
    "import h2o\n",
    "from sklearn.metrics import accuracy_score, classification_report, confusion_matrix, precision_score, recall_score, f1_score\n",
    "from imblearn.under_sampling import RandomUnderSampler\n",
    "from sklearn.ensemble import ExtraTreesClassifier\n",
    "from sklearn.ensemble import RandomForestClassifier\n",
    "from sklearn.feature_selection import SelectKBest\n",
    "from sklearn.feature_selection import chi2\n",
    "from sklearn.model_selection import train_test_split\n",
    "from sklearn.cluster import KMeans\n",
    "from sklearn.preprocessing import StandardScaler\n",
    "from sklearn.metrics import silhouette_score\n",
    "from math import radians, sin, cos, sqrt, atan2\n",
    "from shapely.geometry import Polygon\n",
    "from sklearn.preprocessing import LabelEncoder\n",
    "from statsmodels.stats.outliers_influence import variance_inflation_factor\n",
    "\n",
    "from sklearn.linear_model import LogisticRegression\n",
    "from sklearn.ensemble import AdaBoostClassifier\n",
    "from statsmodels.tools.tools import add_constant\n",
    "\n",
    "from sklearn.feature_extraction.text import TfidfVectorizer \n",
    "from sklearn.tree import DecisionTreeClassifier\n",
    "from sklearn.preprocessing import StandardScaler\n",
    "from sklearn.neighbors import KNeighborsClassifier\n",
    "from sklearn.naive_bayes import GaussianNB\n",
    "from xgboost import XGBClassifier\n",
    "from imblearn.ensemble import BalancedBaggingClassifier\n",
    "from sklearn.ensemble import VotingClassifier\n",
    "from sklearn.decomposition import PCA\n",
    "from sklearn.model_selection import train_test_split\n",
    "from sklearn.preprocessing import RobustScaler\n",
    "from sklearn.linear_model import LinearRegression\n",
    "from h2o.automl import H2OAutoML\n",
    "from tpot import TPOTClassifier\n"
   ]
  },
  {
   "cell_type": "code",
   "execution_count": 2,
   "metadata": {},
   "outputs": [
    {
     "name": "stdout",
     "output_type": "stream",
     "text": [
      "Primeras filas de la muestra (10% del conjunto de datos):\n",
      "filas / columnas (77280, 145)\n",
      "        Severity  Distance(mi)  Temperature(F)  Wind_Chill(F)  Humidity(%)  \\\n",
      "485866         2         0.000            65.0           65.0         52.0   \n",
      "518491         2         0.078            83.0           83.0         27.0   \n",
      "534622         2         0.000            98.6           68.0         29.0   \n",
      "646447         2         0.010            64.4           74.0        100.0   \n",
      "311927         3         1.155            52.5           57.0         27.0   \n",
      "\n",
      "        Pressure(in)  Visibility(mi)  Wind_Speed(mph)  Precipitation(in)  \\\n",
      "485866         29.69            10.0             18.1                0.0   \n",
      "518491         29.18            10.0             10.0                0.0   \n",
      "534622         29.81            10.0              9.2                0.0   \n",
      "646447         30.14            10.0              9.2                0.0   \n",
      "311927         30.19            10.0              8.1                0.0   \n",
      "\n",
      "        Amenity  ...  Temperature_Category_Mild  Temperature_Category_Hot  \\\n",
      "485866        0  ...                       True                     False   \n",
      "518491        0  ...                      False                      True   \n",
      "534622        0  ...                      False                      True   \n",
      "646447        0  ...                       True                     False   \n",
      "311927        0  ...                       True                     False   \n",
      "\n",
      "        Humidity_Level_Moderate  Humidity_Level_High  \\\n",
      "485866                     True                False   \n",
      "518491                    False                False   \n",
      "534622                    False                False   \n",
      "646447                    False                 True   \n",
      "311927                    False                False   \n",
      "\n",
      "        Pressure_Category_Normal  Pressure_Category_High  \\\n",
      "485866                      True                   False   \n",
      "518491                     False                   False   \n",
      "534622                      True                   False   \n",
      "646447                      True                   False   \n",
      "311927                      True                   False   \n",
      "\n",
      "        Visibility_Category_Moderate  Visibility_Category_Clear  \\\n",
      "485866                         False                       True   \n",
      "518491                         False                       True   \n",
      "534622                         False                       True   \n",
      "646447                         False                       True   \n",
      "311927                         False                       True   \n",
      "\n",
      "        is_diciembre_Yes  Is_Rush_Hour_Yes  \n",
      "485866             False              True  \n",
      "518491             False              True  \n",
      "534622             False              True  \n",
      "646447              True              True  \n",
      "311927             False             False  \n",
      "\n",
      "[5 rows x 145 columns]\n"
     ]
    }
   ],
   "source": [
    "# Definir la ruta a la carpeta Data\n",
    "Data_path = '../Data'\n",
    "\n",
    "# Cargar los datos\n",
    "file_path = os.path.join(Data_path, 'US_Accidents_March23_v2.csv')\n",
    "df = pd.read_csv(file_path)\n",
    "df.dropna(inplace=True)\n",
    "\n",
    "# Tomar una muestra aleatoria del 10% de los datos\n",
    "sample_df = df.sample(frac=0.1, random_state=42)  # random_state asegura reproducibilidad\n",
    "\n",
    "# Mostrar las primeras filas de la muestra\n",
    "print(\"Primeras filas de la muestra (10% del conjunto de datos):\")\n",
    "print('filas / columnas', sample_df.shape)\n",
    "print(sample_df.head())"
   ]
  },
  {
   "cell_type": "code",
   "execution_count": 3,
   "metadata": {},
   "outputs": [],
   "source": [
    "def classification_task(model, X_train_scaled, y_train, X_test_scaled, y_test, predic, model_name):\n",
    "    \"\"\"\n",
    "    Evalúa el rendimiento de un modelo de clasificación y devuelve un DataFrame con varias métricas.\n",
    "\n",
    "    Parámetros:\n",
    "    - model: objeto del modelo de clasificación entrenado.\n",
    "    - X_train_scaled: conjunto de datos de entrenamiento escalado.\n",
    "    - y_train: etiquetas verdaderas del conjunto de entrenamiento.\n",
    "    - X_test_scaled: conjunto de datos de prueba escalado.\n",
    "    - y_test: etiquetas verdaderas del conjunto de prueba.\n",
    "    - predic: predicciones del modelo en el conjunto de prueba.\n",
    "    - model_name: nombre del modelo, utilizado como índice en el DataFrame de resultados.\n",
    "\n",
    "    Retorno:\n",
    "    - perf_df: DataFrame con las métricas de rendimiento del modelo.\n",
    "    \"\"\"\n",
    "    \n",
    "    # Crear el DataFrame con las métricas de evaluación\n",
    "    perf_df = pd.DataFrame({\n",
    "        'Train_Score': model.score(X_train_scaled, y_train),         # Puntaje en el conjunto de entrenamiento\n",
    "        'Test_Score': model.score(X_test_scaled, y_test),            # Puntaje en el conjunto de prueba\n",
    "        'Precision_Score': precision_score(y_test, predic, average='weighted'),  # Precisión ponderada\n",
    "        'Recall_Score': recall_score(y_test, predic, average='weighted'),        # Recall ponderado\n",
    "        'F1_Score': f1_score(y_test, predic, average='weighted'),               # F1 Score ponderado\n",
    "        'accuracy': accuracy_score(y_test, predic)                              # Exactitud global\n",
    "    }, index=[model_name])\n",
    "    \n",
    "    return perf_df"
   ]
  },
  {
   "cell_type": "code",
   "execution_count": 5,
   "metadata": {},
   "outputs": [],
   "source": [
    "# seleccion variable respuesta\n",
    "X = sample_df.drop('Severity', axis=1)\n",
    "y= sample_df['Severity']\n",
    "\n",
    "X_train, X_test, y_train, y_test = train_test_split(X, y, test_size=0.30, random_state=42)\n"
   ]
  },
  {
   "cell_type": "markdown",
   "metadata": {},
   "source": [
    "#### RandomForestClassifier"
   ]
  },
  {
   "cell_type": "code",
   "execution_count": 6,
   "metadata": {},
   "outputs": [
    {
     "data": {
      "text/html": [
       "<div>\n",
       "<style scoped>\n",
       "    .dataframe tbody tr th:only-of-type {\n",
       "        vertical-align: middle;\n",
       "    }\n",
       "\n",
       "    .dataframe tbody tr th {\n",
       "        vertical-align: top;\n",
       "    }\n",
       "\n",
       "    .dataframe thead th {\n",
       "        text-align: right;\n",
       "    }\n",
       "</style>\n",
       "<table border=\"1\" class=\"dataframe\">\n",
       "  <thead>\n",
       "    <tr style=\"text-align: right;\">\n",
       "      <th></th>\n",
       "      <th>Train_Score</th>\n",
       "      <th>Test_Score</th>\n",
       "      <th>Precision_Score</th>\n",
       "      <th>Recall_Score</th>\n",
       "      <th>F1_Score</th>\n",
       "      <th>accuracy</th>\n",
       "    </tr>\n",
       "  </thead>\n",
       "  <tbody>\n",
       "    <tr>\n",
       "      <th>Random Forest</th>\n",
       "      <td>0.999982</td>\n",
       "      <td>0.87004</td>\n",
       "      <td>0.863534</td>\n",
       "      <td>0.87004</td>\n",
       "      <td>0.851491</td>\n",
       "      <td>0.87004</td>\n",
       "    </tr>\n",
       "  </tbody>\n",
       "</table>\n",
       "</div>"
      ],
      "text/plain": [
       "               Train_Score  Test_Score  Precision_Score  Recall_Score  \\\n",
       "Random Forest     0.999982     0.87004         0.863534       0.87004   \n",
       "\n",
       "               F1_Score  accuracy  \n",
       "Random Forest  0.851491   0.87004  "
      ]
     },
     "execution_count": 6,
     "metadata": {},
     "output_type": "execute_result"
    }
   ],
   "source": [
    "# definicion del modelo\n",
    "rf_classifier = RandomForestClassifier()\n",
    "rf_classifier.fit(X_train, y_train)  \n",
    "\n",
    "y_pred = rf_classifier.predict(X_test)\n",
    "Eval_Rf= classification_task(rf_classifier,X_train, y_train ,X_test ,y_test, y_pred ,'Random Forest')\n",
    "Eval_Rf"
   ]
  },
  {
   "cell_type": "code",
   "execution_count": 7,
   "metadata": {},
   "outputs": [
    {
     "data": {
      "image/png": "[encoded data removed]",
      "text/plain": [
       "<Figure size 600x400 with 2 Axes>"
      ]
     },
     "metadata": {},
     "output_type": "display_data"
    },
    {
     "name": "stdout",
     "output_type": "stream",
     "text": [
      "Classification Report:\n",
      "              precision    recall  f1-score   support\n",
      "\n",
      "           1       0.85      0.15      0.25       187\n",
      "           2       0.89      0.97      0.92     18619\n",
      "           3       0.76      0.55      0.64      3805\n",
      "           4       0.86      0.04      0.08       573\n",
      "\n",
      "    accuracy                           0.87     23184\n",
      "   macro avg       0.84      0.43      0.47     23184\n",
      "weighted avg       0.86      0.87      0.85     23184\n",
      "\n"
     ]
    }
   ],
   "source": [
    "plt.figure(figsize=(6, 4))\n",
    "sns.heatmap(confusion_matrix(y_test, y_pred), annot=True, fmt='d', cmap='Blues')\n",
    "plt.xlabel('Predicted')\n",
    "plt.ylabel('Actual')\n",
    "plt.title('Confusion Matrix')\n",
    "plt.show()\n",
    "\n",
    "class_report = classification_report(y_test, y_pred)\n",
    "print(\"Classification Report:\")\n",
    "print(class_report)\n"
   ]
  },
  {
   "cell_type": "markdown",
   "metadata": {},
   "source": [
    "#### XGBoost"
   ]
  },
  {
   "cell_type": "code",
   "execution_count": 8,
   "metadata": {},
   "outputs": [
    {
     "data": {
      "text/html": [
       "<div>\n",
       "<style scoped>\n",
       "    .dataframe tbody tr th:only-of-type {\n",
       "        vertical-align: middle;\n",
       "    }\n",
       "\n",
       "    .dataframe tbody tr th {\n",
       "        vertical-align: top;\n",
       "    }\n",
       "\n",
       "    .dataframe thead th {\n",
       "        text-align: right;\n",
       "    }\n",
       "</style>\n",
       "<table border=\"1\" class=\"dataframe\">\n",
       "  <thead>\n",
       "    <tr style=\"text-align: right;\">\n",
       "      <th></th>\n",
       "      <th>Train_Score</th>\n",
       "      <th>Test_Score</th>\n",
       "      <th>Precision_Score</th>\n",
       "      <th>Recall_Score</th>\n",
       "      <th>F1_Score</th>\n",
       "      <th>accuracy</th>\n",
       "    </tr>\n",
       "  </thead>\n",
       "  <tbody>\n",
       "    <tr>\n",
       "      <th>XGBoost</th>\n",
       "      <td>0.936317</td>\n",
       "      <td>0.87927</td>\n",
       "      <td>0.870039</td>\n",
       "      <td>0.87927</td>\n",
       "      <td>0.87157</td>\n",
       "      <td>0.87927</td>\n",
       "    </tr>\n",
       "  </tbody>\n",
       "</table>\n",
       "</div>"
      ],
      "text/plain": [
       "         Train_Score  Test_Score  Precision_Score  Recall_Score  F1_Score  \\\n",
       "XGBoost     0.936317     0.87927         0.870039       0.87927   0.87157   \n",
       "\n",
       "         accuracy  \n",
       "XGBoost   0.87927  "
      ]
     },
     "execution_count": 8,
     "metadata": {},
     "output_type": "execute_result"
    }
   ],
   "source": [
    "(y_train-1).unique()\n",
    "\n",
    "xgb_classifier = XGBClassifier(objective='multi:softmax',random_state=42)\n",
    "xgb_classifier.fit(X_train, y_train-1 )\n",
    "\n",
    "y_pred = xgb_classifier.predict(X_test)\n",
    "Eval_xgb=classification_task(xgb_classifier,X_train, y_train-1, X_test, y_test-1, y_pred,'XGBoost')\n",
    "Eval_xgb\n"
   ]
  },
  {
   "cell_type": "code",
   "execution_count": 9,
   "metadata": {},
   "outputs": [
    {
     "name": "stdout",
     "output_type": "stream",
     "text": [
      "Accuracy: 0.88\n"
     ]
    },
    {
     "data": {
      "image/png": "[encoded data removed]",
      "text/plain": [
       "<Figure size 600x400 with 2 Axes>"
      ]
     },
     "metadata": {},
     "output_type": "display_data"
    },
    {
     "name": "stdout",
     "output_type": "stream",
     "text": [
      "Classification Report:\n",
      "              precision    recall  f1-score   support\n",
      "\n",
      "           0       0.60      0.41      0.49       187\n",
      "           1       0.91      0.95      0.93     18619\n",
      "           2       0.73      0.66      0.70      3805\n",
      "           3       0.56      0.18      0.28       573\n",
      "\n",
      "    accuracy                           0.88     23184\n",
      "   macro avg       0.70      0.55      0.60     23184\n",
      "weighted avg       0.87      0.88      0.87     23184\n",
      "\n"
     ]
    }
   ],
   "source": [
    "accuracy = accuracy_score(y_test-1, y_pred)\n",
    "print(f\"Accuracy: {accuracy:.2f}\")\n",
    "\n",
    "plt.figure(figsize=(6, 4))\n",
    "sns.heatmap(confusion_matrix(y_test-1, y_pred), annot=True, fmt='d', cmap='Blues')\n",
    "plt.xlabel('Predicted')\n",
    "plt.ylabel('Actual')\n",
    "plt.title('Confusion Matrix')\n",
    "plt.show()\n",
    "\n",
    "class_report = classification_report(y_test-1, y_pred)\n",
    "print(\"Classification Report:\")\n",
    "print(class_report)"
   ]
  }
 ],
 "metadata": {
  "kernelspec": {
   "display_name": ".venv",
   "language": "python",
   "name": "python3"
  },
  "language_info": {
   "codemirror_mode": {
    "name": "ipython",
    "version": 3
   },
   "file_extension": ".py",
   "mimetype": "text/x-python",
   "name": "python",
   "nbconvert_exporter": "python",
   "pygments_lexer": "ipython3",
   "version": "3.13.0"
  }
 },
 "nbformat": 4,
 "nbformat_minor": 2
}
